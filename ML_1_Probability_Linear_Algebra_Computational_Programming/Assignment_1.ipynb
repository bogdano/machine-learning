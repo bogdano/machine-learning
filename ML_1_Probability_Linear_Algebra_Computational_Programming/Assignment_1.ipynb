{
 "cells": [
  {
   "cell_type": "markdown",
   "metadata": {},
   "source": [
    "---\n",
    "Probability, Linear Algebra, & Computational Programming\n",
    "---"
   ]
  },
  {
   "cell_type": "markdown",
   "metadata": {
    "id": "ST4AIn0ac1Jn"
   },
   "source": [
    "## *Bogdan Bošković*\n"
   ]
  },
  {
   "cell_type": "markdown",
   "metadata": {
    "id": "tNwSz-3rc1Js"
   },
   "source": [
    "# Probability and Statistics Theory"
   ]
  },
  {
   "cell_type": "markdown",
   "metadata": {
    "id": "gcDCo_Vmc1Jv"
   },
   "source": [
    "## 1\n",
    "**[3 points]**  \n",
    "Let $f(x) = \\begin{cases}\n",
    "                0           & x < 0  \\\\\n",
    "                \\alpha x^2  & 0 \\leq x \\leq 2 \\\\\n",
    "                0           & 2 < x\n",
    "            \\end{cases}$\n",
    "            \n",
    "For what value of $\\alpha$ is $f(x)$ a valid probability density function?"
   ]
  },
  {
   "cell_type": "markdown",
   "metadata": {
    "id": "ejl8z2HIc1Jx"
   },
   "source": [
    "**ANSWER**\n",
    "\n",
    "A probability density (distribution) function is one where\n",
    "\n",
    "a. $\\quad \\forall x \\in \\mathbb{R} : f(x) \\geqslant 0$\n",
    "\n",
    "b. $\\quad \\text{An integral exists, and} \\int_{\\mathbb{R}} \\! f(x) \\, \\mathrm{d}x = 1$\n",
    "So, here, \n",
    "\n",
    "\\begin{align*}\n",
    "\\quad \\int_0^2 \\alpha x^2 \\mathrm{d}x = 1 \\\\\n",
    "\\frac{\\alpha}{3} x^3\\Biggr|_{0}^{2} = 1 \\\\\n",
    "\\frac{8\\alpha}{3} - \\frac{0\\alpha}{3} = 1 \\\\\n",
    "8\\alpha = 3 \\\\\n",
    "\\alpha = \\frac{3}{8}\n",
    "\\end{align*}\n"
   ]
  },
  {
   "cell_type": "markdown",
   "metadata": {
    "id": "YrwM4ScEc1Jy"
   },
   "source": [
    "---\n",
    "\n",
    "## 2\n",
    "**[3 points]** What is the cumulative distribution function (CDF) that corresponds to the following probability distribution function? Please state the value of the CDF for all possible values of $x$.\n",
    "\n",
    "$f(x) = \\begin{cases}\n",
    "    \\frac{1}{3} & 0 < x < 3 \\\\\n",
    "    0           & \\text{otherwise}\n",
    "    \\end{cases}$"
   ]
  },
  {
   "cell_type": "markdown",
   "metadata": {
    "id": "NHBdRVy4c1J0"
   },
   "source": [
    "**ANSWER**\n",
    "The CDF is the integral of the PDF, so\n",
    "$$\n",
    "F(x) = \\int_{-\\infty}^{x} \\! f(x) \\, \\mathrm{d}x = \\int_{-\\infty}^{x} \\! \\frac{1}{3} \\, \\mathrm{d}x = \\frac{1}{3} x\n",
    "$$\n",
    "\n",
    "The value of the CDF for all possible values of $x$ is\n",
    "$$\n",
    "F(x) = \\begin{cases}\n",
    "    0           & x \\leq 0 \\\\\n",
    "    \\frac{1}{3} x & 0 < x < 3 \\\\\n",
    "    1           & x \\geq 3\n",
    "    \\end{cases}\n",
    "$$"
   ]
  },
  {
   "cell_type": "markdown",
   "metadata": {
    "id": "EAzSRxqKc1J3"
   },
   "source": [
    "---\n",
    "\n",
    "## 3\n",
    "**[6 points]** For the probability distribution function for the random variable $X$,\n",
    "\n",
    "$f(x) = \\begin{cases}\n",
    "    \\frac{1}{3} & 0 < x < 3 \\\\\n",
    "    0           & \\text{otherwise}\n",
    "    \\end{cases}$\n",
    "    \n",
    "what is the (a) expected value and (b) variance of $X$. *Show all work*."
   ]
  },
  {
   "cell_type": "markdown",
   "metadata": {
    "id": "JH4wybwNc1J4"
   },
   "source": [
    "**ANSWER**\n",
    "\n",
    "a.) $\\quad\\mathbb{E}_x[g(x)] = \\int_x g(x)p(x)\\mathrm{d}x$\n",
    "\n",
    "So, \n",
    "$$\n",
    "\\int_0^3 \\frac{1}{3} x \\mathrm{d}x = \\frac{x^2}{6} \\Bigr|_{0}^{3} = \\frac{9}{6} = \\frac{3}{2}\n",
    "$$\n",
    "\n",
    "b.)   The variance can be determined by $var(x) = \\mathbb{E}[x^2] - \\mathbb{E}[x]^2 \\\\$\n",
    "\n",
    "We already have ${\\mathbb{E}_x[g(x)]} = \\frac{3}{2}\\\\$\n",
    "\n",
    "And, \n",
    "$$\n",
    "\\mathbb{E}_x[g(x^2)] = \\int_0^3 \\frac{1}{3}x^2\\mathrm{d}x = \\frac{1}{3}\\cdot \\frac{x^3}{3}\\Bigr|_0^3 = \\frac{27}{9} = 3 \\\\\n",
    "$$\n",
    "So, \n",
    "$$\n",
    "var(x) = 3 - \\left( \\frac{3}{2} \\right)^2 = 3 - \\frac{9}{4} = \\frac{3}{4}\n",
    "$$\n",
    "\n"
   ]
  },
  {
   "cell_type": "markdown",
   "metadata": {
    "id": "MLhpgnA9c1J4"
   },
   "source": [
    "## 4\n",
    "\n",
    "**[6 points]** Consider the following table of data that provides the values of a discrete data vector $\\mathbf{x}$ of samples from the random variable $X$, where each entry in $\\mathbf{x}$ is given as $x_i$.\n",
    "\n",
    "*Table 1. Dataset N=5 observations*\n",
    "\n",
    "|      .      | $x_0$ | $x_1$ | $x_2$ | $x_3$ | $x_4$ |\n",
    "|-------------|-------|-------|-------|-------|-------|\n",
    "|$\\textbf{x}$ | 2     | 3     | 10    | -1    | -1    |\n",
    "\n",
    "What is the (a) mean and (b) variance of the data?\n",
    "\n",
    "*Show all work. Your answer should include the definition of mean and variance in the context of discrete data. In this case, use the sample variance since the sample size is quite small*."
   ]
  },
  {
   "cell_type": "markdown",
   "metadata": {
    "id": "PRR7-j-hc1J5"
   },
   "source": [
    "**ANSWER**\n",
    "\n",
    "a.) The mean is the average of the data. So,\n",
    "$$  \\mu = \\frac{2+3+10-1-1}{5} = \\frac{13}{5} = 2.6 $$\n",
    "\n",
    "b.) The variance is the average of the squared differences from the mean. So,\n",
    "$$  var = \\frac{(2-2.6)^2 + (3-2.6)^2 + (10-2.6)^2 + (-1-2.6)^2 + (-1-2.6)^2}{5} = \\frac{81.2}{5} = 16.24 $$\n",
    "\n",
    "Going a different direction, the expected value of the data *is* the mean because this is a discrete data set. So,\n",
    "$$  \\mathbb{E}[x] = \\mu = \\frac{13}{5} = 2.6 $$\n",
    "The variance is the difference between the expected value of the squared data and the squared expected value of the data. So,\n",
    "$$  var = \\mathbb{E}[x^2] - \\mathbb{E}[x]^2 = \\frac{2^2 + 3^2 + 10^2 + (-1)^2 + (-1)^2}{5} - \\frac{13^2}{5^2} = \\frac{81.2}{5} = 16.24 $$"
   ]
  },
  {
   "cell_type": "markdown",
   "metadata": {
    "id": "I-LYzNVLc1J5"
   },
   "source": [
    "---\n",
    "\n",
    "# Linear Algebra"
   ]
  },
  {
   "cell_type": "markdown",
   "metadata": {
    "id": "_7CLS-9Ic1J5"
   },
   "source": [
    "## 5\n",
    "\n",
    "**[5 points]** A common task in machine learning is a change of basis: transforming the representation of our data from one space to another. A prime example of this is through the process of dimensionality reduction as in Principle Components Analysis where we often seek to transform our data from one space (of dimension $n$) to a new space (of dimension $m$) where $m<n$. Assume we have a sample of data of dimension $n=4$ (as shown below) and we want to transform it into a dimension of $m=2$.\n",
    "\n",
    "$\\mathbf{x} =  \\begin{bmatrix}\n",
    "x_1 \\\\\n",
    "x_2 \\\\\n",
    "x_3 \\\\\n",
    "x_4\n",
    "\\end{bmatrix}$"
   ]
  },
  {
   "cell_type": "markdown",
   "metadata": {
    "id": "k6W5LzG4c1J5"
   },
   "source": [
    "(a) What are the dimensions of a matrix, $\\mathbf{A}$, that would linearly transform our sample of data, $\\mathbf{x}$, into a space of $m=2$ through the operation $\\mathbf{Ax}$?\n",
    "\n",
    "**ANSWER** \n",
    "\n",
    "The dimensions of the matrix $\\mathbf{A}$ would be $2\\times4$:\n",
    "\n",
    "$\\mathbf{A} =  \\begin{bmatrix}\n",
    "a_{11} & a_{12} & a_{13} & a_{14}\\\\\n",
    "a_{21} & a_{22} & a_{23} & a_{24} \\\\\n",
    "\\end{bmatrix}$\n",
    "\n",
    "(b) Express this transformation in terms of the components of $\\mathbf{x}$: $x_1$, $x_2$, $x_3$, $x_4$ and the matrix $\\mathbf{A}$ where each entry in the matrix is denoted as $a_{i,j}$ (e.g. the entry in the first row and second column would be $a_{1,2}$). Your answer will be in the form of a matrix expressing result of the product $\\mathbf{Ax}$.\n",
    "\n",
    "**ANSWER**\n",
    "\n",
    "$\\mathbf{Ax} =  \\begin{bmatrix}\n",
    "a_{11} & a_{12} & a_{13} & a_{14}\\\\\n",
    "a_{21} & a_{22} & a_{23} & a_{24} \\\\\n",
    "\\end{bmatrix} * \\begin{bmatrix}\n",
    "x_1 \\\\\n",
    "x_2 \\\\\n",
    "x_3 \\\\\n",
    "x_4\n",
    "\\end{bmatrix} = \\begin{bmatrix}\n",
    "a_{11}x_1 + a_{12}x_2 + a_{13}x_3 + a_{14}x_4 \\\\\n",
    "a_{21}x_1 + a_{22}x_2 + a_{23}x_3 + a_{24}x_4 \\\\\n",
    "\\end{bmatrix} = \\begin{bmatrix}\n",
    "y_1 \\\\\n",
    "y_2\n",
    "\\end{bmatrix}$\n",
    "\n",
    "*Note: please write your answers here in LaTeX*"
   ]
  },
  {
   "cell_type": "markdown",
   "metadata": {
    "id": "--ElvJ75c1J8"
   },
   "source": [
    "---\n",
    "\n",
    "## 6\n",
    "**[14 points]** **Matrix manipulations and multiplication**. Machine learning involves working with many matrices, so this exercise will provide you with the opportunity to practice those skills.\n",
    "\n",
    "Let\n",
    "$\\mathbf{A} =  \\begin{bmatrix}\n",
    "1 & 2 & 3 \\\\\n",
    "2 & 4 & 5 \\\\\n",
    "3 & 5 & 6\n",
    "\\end{bmatrix}$, $\\mathbf{b} =  \\begin{bmatrix}\n",
    "-1  \\\\\n",
    "3  \\\\\n",
    "8  \n",
    "\\end{bmatrix}$, $\\mathbf{c} =  \\begin{bmatrix}\n",
    "4  \\\\\n",
    "-3  \\\\\n",
    "6  \n",
    "\\end{bmatrix}$, and $\\mathbf{I} =  \\begin{bmatrix}\n",
    "1 & 0 & 0 \\\\\n",
    "0 & 1 & 0 \\\\\n",
    "0 & 0 & 1\n",
    "\\end{bmatrix}$\n",
    "\n",
    "Compute the following **using Python** or indicate that it cannot be computed. Refer to NumPy's tools for handling matrices. While all answers should be computed using Python, your response to whether each item can be computed should refer to underlying linear algebra. There may be circumstances when Python will produce an output, but based on the dimensions of the matrices involved, the linear algebra operation is not possible. **For the case when an operation is invalid, explain why it is not.**\n",
    "\n",
    "When the quantity can be computed, please provide both the Python code AND the output of that code (this need not be in LaTex)\n",
    "\n",
    "1. $\\mathbf{A}\\mathbf{A}$"
   ]
  },
  {
   "cell_type": "code",
   "execution_count": 34,
   "metadata": {},
   "outputs": [
    {
     "name": "stdout",
     "output_type": "stream",
     "text": [
      "[[14 25 31]\n",
      " [25 45 56]\n",
      " [31 56 70]]\n"
     ]
    }
   ],
   "source": [
    "import numpy as np\n",
    "A = np.array([[1,2,3],\n",
    "              [2,4,5],\n",
    "              [3,5,6]])\n",
    "result = np.matmul(A, A)\n",
    "print(result)"
   ]
  },
  {
   "cell_type": "markdown",
   "metadata": {},
   "source": [
    "2. $\\mathbf{A}\\mathbf{A}^T$"
   ]
  },
  {
   "cell_type": "markdown",
   "metadata": {},
   "source": [
    "*$A$ is a symmetric matrix, so its transpose is equal to itself. Therefore, the product of $A$ and $A^T$ is equal to $AA$.*"
   ]
  },
  {
   "cell_type": "code",
   "execution_count": 35,
   "metadata": {},
   "outputs": [
    {
     "name": "stdout",
     "output_type": "stream",
     "text": [
      "[[14 25 31]\n",
      " [25 45 56]\n",
      " [31 56 70]]\n"
     ]
    }
   ],
   "source": [
    "result = np.matmul(A, A.T)\n",
    "print(result)"
   ]
  },
  {
   "cell_type": "markdown",
   "metadata": {},
   "source": [
    "3. $\\mathbf{A}\\mathbf{b}$"
   ]
  },
  {
   "cell_type": "code",
   "execution_count": 44,
   "metadata": {},
   "outputs": [
    {
     "name": "stdout",
     "output_type": "stream",
     "text": [
      "[[29]\n",
      " [50]\n",
      " [60]]\n"
     ]
    }
   ],
   "source": [
    "b = np.array([[-1],\n",
    "             [3],\n",
    "             [8]])\n",
    "result = np.matmul(A, b)\n",
    "print(result)"
   ]
  },
  {
   "cell_type": "markdown",
   "metadata": {},
   "source": [
    "4. $\\mathbf{A}\\mathbf{b}^T$"
   ]
  },
  {
   "cell_type": "markdown",
   "metadata": {},
   "source": [
    "*This is not a valid operation, as the number of columns in $A$ (3) is not equal to the number of rows in $b^T$ (1).*"
   ]
  },
  {
   "cell_type": "markdown",
   "metadata": {},
   "source": [
    "5. $\\mathbf{b}\\mathbf{A}$"
   ]
  },
  {
   "cell_type": "markdown",
   "metadata": {},
   "source": [
    "*This is invalid, as the number of columns in $b$ (1) is not equal to the number of rows in $A$ (3).*"
   ]
  },
  {
   "cell_type": "markdown",
   "metadata": {},
   "source": [
    "6. $\\mathbf{b}^T\\mathbf{A}$"
   ]
  },
  {
   "cell_type": "code",
   "execution_count": 45,
   "metadata": {},
   "outputs": [
    {
     "name": "stdout",
     "output_type": "stream",
     "text": [
      "[[29 50 60]]\n"
     ]
    }
   ],
   "source": [
    "result = np.matmul(b.T, A)\n",
    "print(result)"
   ]
  },
  {
   "cell_type": "markdown",
   "metadata": {},
   "source": [
    "7. $\\mathbf{b}\\mathbf{b}$"
   ]
  },
  {
   "cell_type": "markdown",
   "metadata": {},
   "source": [
    "*Invalid; $b$ does not have an equal number of rows and columns. It is not a square matrix.*"
   ]
  },
  {
   "cell_type": "markdown",
   "metadata": {},
   "source": [
    "8. $\\mathbf{b}^T\\mathbf{b}$"
   ]
  },
  {
   "cell_type": "code",
   "execution_count": 47,
   "metadata": {},
   "outputs": [
    {
     "name": "stdout",
     "output_type": "stream",
     "text": [
      "[[74]]\n"
     ]
    }
   ],
   "source": [
    "result = np.matmul(b.T, b)\n",
    "print(result)"
   ]
  },
  {
   "cell_type": "markdown",
   "metadata": {},
   "source": [
    "9. $\\mathbf{b}\\mathbf{b}^T$"
   ]
  },
  {
   "cell_type": "code",
   "execution_count": 48,
   "metadata": {},
   "outputs": [
    {
     "name": "stdout",
     "output_type": "stream",
     "text": [
      "[[ 1 -3 -8]\n",
      " [-3  9 24]\n",
      " [-8 24 64]]\n"
     ]
    }
   ],
   "source": [
    "result = np.matmul(b, b.T)\n",
    "print(result)"
   ]
  },
  {
   "cell_type": "markdown",
   "metadata": {},
   "source": [
    "10. $\\mathbf{b} + \\mathbf{c}^T$"
   ]
  },
  {
   "cell_type": "markdown",
   "metadata": {},
   "source": [
    "*$b$ and $C^T$ do not have the same dimensions, and therefore $b+C^T$ is not a valid operation.*"
   ]
  },
  {
   "cell_type": "markdown",
   "metadata": {},
   "source": [
    "11. $\\mathbf{b}^T\\mathbf{b}^T$"
   ]
  },
  {
   "cell_type": "markdown",
   "metadata": {},
   "source": [
    "*$b^T$ is a row vector, and therefore $b^Tb^T$ is not a valid operation.*"
   ]
  },
  {
   "cell_type": "markdown",
   "metadata": {},
   "source": [
    "12. $\\mathbf{A}^{-1}\\mathbf{b}$"
   ]
  },
  {
   "cell_type": "code",
   "execution_count": 56,
   "metadata": {},
   "outputs": [
    {
     "name": "stdout",
     "output_type": "stream",
     "text": [
      "[[ 6.]\n",
      " [ 4.]\n",
      " [-5.]]\n"
     ]
    }
   ],
   "source": [
    "A_1 = np.linalg.inv(A)\n",
    "result = np.matmul(A_1, b)\n",
    "print(result)"
   ]
  },
  {
   "cell_type": "markdown",
   "metadata": {},
   "source": [
    "13. $\\mathbf{A}\\circ\\mathbf{A}$"
   ]
  },
  {
   "cell_type": "markdown",
   "metadata": {},
   "source": [
    "*Note: The element-wise (or Hadamard) product is the product of each element in one matrix with the corresponding element in another matrix, and is represented by the symbol \"$\\circ$\".* \n",
    "\n",
    "*Thus, only matrices of the same dimensions can be element-wise multiplied.*"
   ]
  },
  {
   "cell_type": "code",
   "execution_count": 57,
   "metadata": {},
   "outputs": [
    {
     "name": "stdout",
     "output_type": "stream",
     "text": [
      "[[ 1  4  9]\n",
      " [ 4 16 25]\n",
      " [ 9 25 36]]\n"
     ]
    }
   ],
   "source": [
    "result = np.multiply(A, A)\n",
    "print(result)"
   ]
  },
  {
   "cell_type": "markdown",
   "metadata": {},
   "source": [
    "14. $\\mathbf{b}\\circ\\mathbf{c}$"
   ]
  },
  {
   "cell_type": "markdown",
   "metadata": {},
   "source": [
    "*Both $b$ and $c$ are column vectors, and therefore can be element-wise multiplied.*"
   ]
  },
  {
   "cell_type": "code",
   "execution_count": 58,
   "metadata": {},
   "outputs": [
    {
     "name": "stdout",
     "output_type": "stream",
     "text": [
      "[[-4]\n",
      " [-9]\n",
      " [48]]\n"
     ]
    }
   ],
   "source": [
    "c = np.array([[4],\n",
    "              [-3],\n",
    "              [6]])\n",
    "result = np.multiply(b, c)\n",
    "print(result)"
   ]
  },
  {
   "cell_type": "markdown",
   "metadata": {
    "id": "AtBCH20vc1J9"
   },
   "source": [
    "---\n",
    "\n",
    "## 7\n",
    "**[8 points]** **Eigenvectors and eigenvalues**. Eigenvectors and eigenvalues are useful for some machine learning algorithms, but the concepts take time to solidly grasp. They are used extensively in machine learning and in this course we will encounter them in relation to Principal Components Analysis (PCA), clustering algorithms, For an intuitive review of these concepts, explore this [interactive website at Setosa.io](http://setosa.io/ev/eigenvectors-and-eigenvalues/). Also, the series of linear algebra videos by Grant Sanderson of 3Brown1Blue are excellent and can be viewed on youtube [here](https://www.youtube.com/playlist?list=PLZHQObOWTQDPD3MizzM2xVFitgF8hE_ab). For these questions, numpy may once again be helpful.\n",
    "\n",
    "1. Calculate the eigenvalues and corresponding eigenvectors of matrix $\\mathbf{A}$ above, from the last question."
   ]
  },
  {
   "cell_type": "code",
   "execution_count": 75,
   "metadata": {},
   "outputs": [
    {
     "name": "stdout",
     "output_type": "stream",
     "text": [
      "Eigenvalues:\n",
      " [11.34481428 -0.51572947  0.17091519]\n",
      "\n",
      "Eigenvectors:\n",
      " [[-0.32798528 -0.73697623  0.59100905]\n",
      " [-0.59100905 -0.32798528 -0.73697623]\n",
      " [-0.73697623  0.59100905  0.32798528]]\n"
     ]
    }
   ],
   "source": [
    "import numpy as np\n",
    "A = np.array([[1,2,3],\n",
    "              [2,4,5],\n",
    "              [3,5,6]])\n",
    "eigenvalues, eigenvectors = np.linalg.eig(A)\n",
    "print(f\"Eigenvalues:\\n {eigenvalues}\\n\")\n",
    "print(f\"Eigenvectors:\\n {eigenvectors}\")"
   ]
  },
  {
   "cell_type": "markdown",
   "metadata": {},
   "source": [
    "2. Choose one of the eigenvector/eigenvalue pairs, $\\mathbf{v}$ and $\\lambda$, and show that $\\mathbf{A} \\mathbf{v} = \\lambda \\mathbf{v}$. This relationship extends to higher orders: $\\mathbf{A} \\mathbf{A} \\mathbf{v} = \\lambda^2 \\mathbf{v}$"
   ]
  },
  {
   "cell_type": "code",
   "execution_count": 79,
   "metadata": {},
   "outputs": [
    {
     "name": "stdout",
     "output_type": "stream",
     "text": [
      "Av = [-3.72093206 -6.70488789 -8.36085845]\n",
      "lambda*v = [-3.72093206 -6.70488789 -8.36085845]\n",
      "\n",
      "AAv = [-42.2132832  -76.06570795 -94.85238636]\n",
      "lambda^2*v = [-42.2132832  -76.06570795 -94.85238636]\n"
     ]
    }
   ],
   "source": [
    "v = eigenvectors[:,0]\n",
    "lam = eigenvalues[0]\n",
    "result = np.matmul(A, v)\n",
    "print(f\"Av = {result}\")\n",
    "result = lam*v\n",
    "print(f\"lambda*v = {result}\\n\")\n",
    "\n",
    "print(f\"AAv = {np.matmul(A, np.matmul(A, v))}\")\n",
    "print(f\"lambda^2*v = {lam*lam*v}\")"
   ]
  },
  {
   "cell_type": "markdown",
   "metadata": {},
   "source": [
    "3. Show that the eigenvectors are orthogonal to one another (e.g. their inner product is zero). This is true for eigenvectors from real, symmetric matrices. In three dimensions or less, this means that the eigenvectors are perpendicular to each other. Typically we use the orthogonal basis of our standard x, y, and z, Cartesian coordinates, which allows us, if we combine them linearly, to represent any point in a 3D space. But any three orthogonal vectors can do the same. We will see this property is used in PCA to identify the dimensions of greatest variation in our data when we discuss dimensionality reduction."
   ]
  },
  {
   "cell_type": "code",
   "execution_count": 87,
   "metadata": {},
   "outputs": [
    {
     "name": "stdout",
     "output_type": "stream",
     "text": [
      "<v1, v2> = -0.0\n",
      "<v1, v3> = -0.0\n",
      "<v2, v3> = -0.0\n"
     ]
    }
   ],
   "source": [
    "print(f\"<v1, v2> = {np.inner(eigenvectors[:,0], eigenvectors[:,1]).round()}\")\n",
    "print(f\"<v1, v3> = {np.inner(eigenvectors[:,0], eigenvectors[:,2]).round()}\")\n",
    "print(f\"<v2, v3> = {np.inner(eigenvectors[:,1], eigenvectors[:,2]).round()}\")"
   ]
  },
  {
   "cell_type": "markdown",
   "metadata": {
    "id": "a78mP3Lrc1J-"
   },
   "source": [
    "---\n",
    "\n",
    "# Numerical Programming"
   ]
  },
  {
   "cell_type": "markdown",
   "metadata": {
    "id": "1l7vGQeAc1J-"
   },
   "source": [
    "## 8\n",
    "**[10 points]** Loading data and gathering insights from a real dataset\n",
    "\n",
    "In data science, we often need to have a sense of the idiosyncrasies of the data, how they relate to the questions we are trying to answer, and to use that information to help us to determine what approach, such as machine learning, we may need to apply to achieve our goal. This exercise provides practice in exploring a dataset and answering question that might arise from applications related to the data.\n",
    "\n",
    "**Data**. The data for this problem can be found in the `data` subfolder in the `assignments` folder on [github](https://github.com/kylebradbury/ids705). The filename is `a1_egrid2016.xlsx`. This dataset is the Environmental Protection Agency's (EPA) [Emissions & Generation Resource Integrated Database (eGRID)](https://www.epa.gov/energy/emissions-generation-resource-integrated-database-egrid) containing information about all power plants in the United States, the amount of generation they produce, what fuel they use, the location of the plant, and many more quantities. We'll be using a subset of those data.\n",
    "\n",
    "The fields we'll be using include:\n",
    "    \n",
    "|field    |description|\n",
    "|:-----   |:-----|\n",
    "|SEQPLT16 |eGRID2016 Plant file sequence number (the index)|\n",
    "|PSTATABB |Plant state abbreviation|\n",
    "|PNAME    |Plant name |\n",
    "|LAT      |Plant latitude |\n",
    "|LON      |Plant longitude|\n",
    "|PLPRMFL  |Plant primary fuel |\n",
    "|CAPFAC   |Plant capacity factor |\n",
    "|NAMEPCAP |Plant nameplate capacity (Megawatts MW)|\n",
    "|PLNGENAN |Plant annual net generation (Megawatt-hours MWh)|\n",
    "|PLCO2EQA |Plant annual CO2 equivalent emissions (tons)|\n",
    "\n",
    "For more details on the data, you can refer to the [eGrid technical documents](https://www.epa.gov/sites/default/files/2021-02/documents/egrid2019_technical_guide.pdf). For example, you may want to review page 45 and the section \"Plant Primary Fuel (PLPRMFL)\", which gives the full names of the fuel types including WND for wind, NG for natural gas, BIT for Bituminous coal, etc.\n",
    "\n",
    "There also are a couple of \"gotchas\" to watch out for with this dataset:\n",
    "- The headers are on the second row and you'll want to ignore the first row (they're more detailed descriptions of the headers).\n",
    "- NaN values represent blanks in the data. These will appear regularly in real-world data, so getting experience working with these sorts of missing values will be important.\n",
    "\n",
    "**Your objective**. For this dataset, your goal is to answer the following questions about electricity generation in the United States:\n",
    "\n",
    "**(a)** Which plant has generated the most energy (measured in MWh)?"
   ]
  },
  {
   "cell_type": "code",
   "execution_count": 89,
   "metadata": {},
   "outputs": [
    {
     "name": "stdout",
     "output_type": "stream",
     "text": [
      "Most prolific powerplant: Palo Verde       at 32377476.999 MWh.\n"
     ]
    }
   ],
   "source": [
    "import matplotlib.pyplot as plt, pandas as pd, seaborn as sb, warnings\n",
    "\n",
    "file_path = 'a1_egrid2016.xlsx'\n",
    "dataframe = pd.read_excel(file_path, engine='openpyxl', header=1)\n",
    "max_energy = dataframe[dataframe['PLNGENAN'] == dataframe['PLNGENAN'].max()]\n",
    "print(f\"Most prolific powerplant: {max_energy['PNAME'].values[0]}\\\n",
    "       at {max_energy['PLNGENAN'].values[0]} MWh.\")"
   ]
  },
  {
   "cell_type": "markdown",
   "metadata": {},
   "source": [
    "**(b)** What is the name of the northern-most power plant in the United States?"
   ]
  },
  {
   "cell_type": "code",
   "execution_count": 90,
   "metadata": {},
   "outputs": [
    {
     "name": "stdout",
     "output_type": "stream",
     "text": [
      "Northernmost powerplant: Barrow       at 71.292 degrees North.\n"
     ]
    }
   ],
   "source": [
    "northernmost = dataframe[dataframe['LAT'] == dataframe['LAT'].max()]\n",
    "print(f\"Northernmost powerplant: {northernmost['PNAME'].values[0]}\\\n",
    "       at {northernmost['LAT'].values[0]} degrees North.\")"
   ]
  },
  {
   "cell_type": "markdown",
   "metadata": {},
   "source": [
    "**(c)** What is the state where the northern-most power plant in the United States is located?"
   ]
  },
  {
   "cell_type": "code",
   "execution_count": 91,
   "metadata": {},
   "outputs": [
    {
     "name": "stdout",
     "output_type": "stream",
     "text": [
      "Barrow is located in       AK.\n"
     ]
    }
   ],
   "source": [
    "print(f\"{northernmost['PNAME'].values[0]} is located in\\\n",
    "       {northernmost['PSTATABB'].values[0]}.\")"
   ]
  },
  {
   "cell_type": "markdown",
   "metadata": {},
   "source": [
    "**(d)** Plot a bar plot showing the amount of energy produced by each fuel type across all plants."
   ]
  },
  {
   "cell_type": "code",
   "execution_count": 102,
   "metadata": {},
   "outputs": [
    {
     "data": {
      "image/png": "[encoded data removed]",
      "text/plain": [
       "<Figure size 1200x500 with 1 Axes>"
      ]
     },
     "metadata": {},
     "output_type": "display_data"
    }
   ],
   "source": [
    "warnings.filterwarnings(\"ignore\", category=FutureWarning)\n",
    "\n",
    "fuel_type_energy = dataframe.groupby('PLPRMFL')['PLNGENAN'].sum().reset_index()\n",
    "# let's only show values greater than 10,000,000 MWh, \n",
    "# since the rest are negligible on this plot\n",
    "fuel_type_energy = fuel_type_energy[fuel_type_energy['PLNGENAN'] > 10000000]\n",
    "# Sort by energy generated, for clarity\n",
    "fuel_type_energy = fuel_type_energy.sort_values(by='PLNGENAN', ascending=False)\n",
    "plt.figure(figsize=(12, 5))\n",
    "sb.barplot(data=fuel_type_energy, x='PLPRMFL', y='PLNGENAN', color='lightgreen')\n",
    "plt.title('Energy Generated by Fuel Type (> 10,000,000 MWh))')\n",
    "plt.xlabel('Fuel Type')\n",
    "plt.ylabel('Energy Generated (MWh)')\n",
    "plt.xticks(range(len(fuel_type_energy)), fuel_type_energy['PLPRMFL'],\\\n",
    "            rotation=45, ha='right')\n",
    "plt.show()"
   ]
  },
  {
   "cell_type": "markdown",
   "metadata": {},
   "source": [
    "**(e)** From the plot in (d), which fuel for generation produces the most energy (MWh) in the United States?"
   ]
  },
  {
   "cell_type": "markdown",
   "metadata": {},
   "source": [
    "*It is apparent that NG (Natural Gas) is by far the most utilized fuel for energy production in the States.*"
   ]
  },
  {
   "cell_type": "markdown",
   "metadata": {
    "id": "_tCgnKcfc1KA"
   },
   "source": [
    "---\n",
    "\n",
    "## 9\n",
    "**[6 points]** *Vectorization*. When we first learn to code and think about iterating over an array, we often use loops. If implemented correctly, that does the trick. In machine learning, we iterate over so much data that those loops can lead to significant slow downs if they are not computationally efficient. In Python, vectorizing code and relying on matrix operations with efficient tools like numpy is typically the faster approach. Of course, numpy relies on loops to complete the computation, but this is at a lower level of programming (typically in C), and therefore is much more efficient. This exercise will explore the benefits of vectorization. Since many machine learning techniques rely on matrix operations, it's helpful to begin thinking about implementing algorithms using vector forms.\n",
    "\n",
    "Begin by creating an array of 10 million random numbers using the numpy `random.randn` module. Compute the sum of the squares of those random numbers first in a for loop, then using Numpy's `dot` module to perform an inner (dot) product. Time how long it takes to compute each and report the results and report the output. How many times faster is the vectorized code than the for loop approach? (Note - your results may vary from run to run).\n",
    "\n",
    "Your output should use the `print()` function as follows (where the # symbols represent your answers, to a reasonable precision of 4-5 significant figures):\n",
    "\n",
    "`Time [sec] (non-vectorized): ######`\n",
    "\n",
    "`Time [sec] (vectorized):     ######`\n",
    "\n",
    "`The vectorized code is ##### times faster than the nonvectorized code`"
   ]
  },
  {
   "cell_type": "markdown",
   "metadata": {
    "id": "JuGYfxq0c1KA"
   },
   "source": [
    "**ANSWER**"
   ]
  },
  {
   "cell_type": "code",
   "execution_count": 23,
   "metadata": {},
   "outputs": [
    {
     "name": "stdout",
     "output_type": "stream",
     "text": [
      "NON-VECTORIZED:\n",
      "Sum of squares:       10002632.5557\n",
      "Time elapsed: 4.9794 seconds\n",
      "\n",
      "VECTORIZED:\n",
      "Sum of squares:       10002632.5557\n",
      "Time elapsed: 0.005 seconds\n",
      "\n",
      "The vectorized code is       988.7 times faster than non-vectorized code.\n"
     ]
    }
   ],
   "source": [
    "import numpy as np, time\n",
    "\n",
    "random_set = np.random.randn(10000000)\n",
    "start_time = time.time()\n",
    "squares = 0\n",
    "for num in random_set:\n",
    "    squares += num**2\n",
    "end_time = time.time()\n",
    "loop_elapsed = end_time - start_time\n",
    "\n",
    "start_time = time.time()\n",
    "squares_numpy = np.dot(random_set, random_set)\n",
    "end_time = time.time()\n",
    "numpy_elapsed = end_time - start_time\n",
    "\n",
    "print(f\"NON-VECTORIZED:\\nSum of squares:\\\n",
    "       {round(squares, 4)}\\nTime elapsed: {round(loop_elapsed, 4)} seconds\\n\")\n",
    "print(f\"VECTORIZED:\\nSum of squares:\\\n",
    "       {round(squares_numpy, 4)}\\nTime elapsed: {round(numpy_elapsed, 4)} seconds\\n\")\n",
    "print(f\"The vectorized code is\\\n",
    "       {round(loop_elapsed/numpy_elapsed, 1)} times faster than non-vectorized code.\")"
   ]
  },
  {
   "cell_type": "markdown",
   "metadata": {
    "id": "wAvJBCIcc1KB"
   },
   "source": [
    "---\n",
    "\n",
    "## 10\n",
    "**[10 points]** This exercise will walk through some basic numerical programming and probabilistic thinking exercises, two skills which are frequently used in machine learning for answering questions from our data.\n",
    "1. Synthesize $n=10^4$ normally distributed data points with mean $\\mu=2$ and a standard deviation of $\\sigma=1$. Call these observations from a random variable $X$, and call the vector of observations that you generate, $\\textbf{x}$.\n"
   ]
  },
  {
   "cell_type": "code",
   "execution_count": 10,
   "metadata": {},
   "outputs": [],
   "source": [
    "import numpy as np, matplotlib.pyplot as plt, seaborn as sb, warnings\n",
    "# np.random.normal(mean, standard deviation, number of samples)\n",
    "x = np.random.normal(2, 1, 10000)"
   ]
  },
  {
   "cell_type": "markdown",
   "metadata": {},
   "source": [
    "2. Calculate the mean and standard deviation of $\\textbf{x}$ to validate (1) and provide the result to a precision of four significant figures.\n"
   ]
  },
  {
   "cell_type": "code",
   "execution_count": 3,
   "metadata": {},
   "outputs": [
    {
     "name": "stdout",
     "output_type": "stream",
     "text": [
      "Mean of x: 2.0002\n",
      "Standard Deviation of x: 0.9928\n"
     ]
    }
   ],
   "source": [
    "mean = np.mean(x)\n",
    "stdev = np.std(x)\n",
    "print(f\"Mean of x: {mean:.4f}\")\n",
    "print(f\"Standard Deviation of x: {stdev:.4f}\")"
   ]
  },
  {
   "cell_type": "markdown",
   "metadata": {},
   "source": [
    "3. Plot a histogram of the data in $\\textbf{x}$ with 30 bins\n"
   ]
  },
  {
   "cell_type": "code",
   "execution_count": 68,
   "metadata": {},
   "outputs": [
    {
     "data": {
      "image/png": "[encoded data removed]",
      "text/plain": [
       "<Figure size 1200x500 with 1 Axes>"
      ]
     },
     "metadata": {},
     "output_type": "display_data"
    }
   ],
   "source": [
    "warnings.filterwarnings(\"ignore\", category=FutureWarning)\n",
    "\n",
    "plt.figure(figsize=(12, 5))\n",
    "sb.histplot(x, bins=30, kde=True, color='lightgreen')\n",
    "plt.xlabel('Value')\n",
    "plt.ylabel('Frequency')\n",
    "plt.title('Histogram of x (30 Bins)')\n",
    "plt.show()"
   ]
  },
  {
   "cell_type": "markdown",
   "metadata": {},
   "source": [
    "4. What is the 90th percentile of $\\textbf{x}$? The 90th percentile is the value below which 90% of observations can be found.\n"
   ]
  },
  {
   "cell_type": "code",
   "execution_count": 5,
   "metadata": {},
   "outputs": [
    {
     "name": "stdout",
     "output_type": "stream",
     "text": [
      "The 90th percentile of this set is 3.2557.\n"
     ]
    }
   ],
   "source": [
    "print(f\"The 90th percentile of this set is {np.percentile(x, 90):.4f}.\")"
   ]
  },
  {
   "cell_type": "markdown",
   "metadata": {},
   "source": [
    "5. What is the 99th percentile of $\\textbf{x}$?\n"
   ]
  },
  {
   "cell_type": "code",
   "execution_count": 6,
   "metadata": {},
   "outputs": [
    {
     "name": "stdout",
     "output_type": "stream",
     "text": [
      "The 99th percentile of this set is 4.2786.\n"
     ]
    }
   ],
   "source": [
    "print(f\"The 99th percentile of this set is {np.percentile(x, 99):.4f}.\")"
   ]
  },
  {
   "cell_type": "markdown",
   "metadata": {},
   "source": [
    "6. Now synthesize $n=10^4$ normally distributed data points with mean $\\mu=0$ and a standard deviation of $\\sigma=3$. Call these observations from a random variable $Y$, and call the vector of observations that you generate, $\\textbf{y}$.\n"
   ]
  },
  {
   "cell_type": "code",
   "execution_count": 7,
   "metadata": {},
   "outputs": [],
   "source": [
    "y = np.random.normal(0, 3, 10000)"
   ]
  },
  {
   "cell_type": "markdown",
   "metadata": {},
   "source": [
    "7. Create a new figure and plot the histogram of the data in $\\textbf{y}$ on the same axes with the histogram of $\\textbf{x}$, so that both histograms can be seen and compared.\n"
   ]
  },
  {
   "cell_type": "code",
   "execution_count": 67,
   "metadata": {},
   "outputs": [
    {
     "data": {
      "image/png": "[encoded data removed]",
      "text/plain": [
       "<Figure size 1200x500 with 1 Axes>"
      ]
     },
     "metadata": {},
     "output_type": "display_data"
    }
   ],
   "source": [
    "plt.figure(figsize=(12, 5))\n",
    "sb.histplot(y, bins=30, kde=True, color='orange')\n",
    "sb.histplot(x, bins=30, kde=True, color='lightgreen')\n",
    "\n",
    "plt.xlabel('Value')\n",
    "plt.ylabel('Frequency')\n",
    "plt.title('Histograms of x and y (30 Bins)')\n",
    "plt.show()"
   ]
  },
  {
   "cell_type": "markdown",
   "metadata": {},
   "source": [
    "8. Using the observations from $\\textbf{x}$ and $\\textbf{y}$, estimate $E[XY]$"
   ]
  },
  {
   "cell_type": "markdown",
   "metadata": {},
   "source": [
    "$\\mathbb{E}[XY]$, or the expectation of a product of two random discrete variables, is the mean of the product:"
   ]
  },
  {
   "cell_type": "code",
   "execution_count": 43,
   "metadata": {},
   "outputs": [
    {
     "name": "stdout",
     "output_type": "stream",
     "text": [
      "E[XY] is -0.0433\n"
     ]
    }
   ],
   "source": [
    "print(f\"E[XY] is {np.mean(x*y):.4f}\")"
   ]
  }
 ],
 "metadata": {
  "colab": {
   "provenance": []
  },
  "kernelspec": {
   "display_name": "Python 3",
   "name": "python3"
  },
  "language_info": {
   "codemirror_mode": {
    "name": "ipython",
    "version": 3
   },
   "file_extension": ".py",
   "mimetype": "text/x-python",
   "name": "python",
   "nbconvert_exporter": "python",
   "pygments_lexer": "ipython3",
   "version": "3.11.0"
  },
  "nteract": {
   "version": "0.28.0"
  },
  "varInspector": {
   "cols": {
    "lenName": 16,
    "lenType": 16,
    "lenVar": 40
   },
   "kernels_config": {
    "python": {
     "delete_cmd_postfix": "",
     "delete_cmd_prefix": "del ",
     "library": "var_list.py",
     "varRefreshCmd": "print(var_dic_list())"
    },
    "r": {
     "delete_cmd_postfix": ") ",
     "delete_cmd_prefix": "rm(",
     "library": "var_list.r",
     "varRefreshCmd": "cat(var_dic_list()) "
    }
   },
   "position": {
    "height": "643px",
    "left": "1548px",
    "right": "20px",
    "top": "121px",
    "width": "350px"
   },
   "types_to_exclude": [
    "module",
    "function",
    "builtin_function_or_method",
    "instance",
    "_Feature"
   ],
   "window_display": true
  },
  "vscode": {
   "interpreter": {
    "hash": "f54e0b9f92ceb50229b3b7ea26b5d02f05ce8845dd8d997c014a0efede4c9c20"
   }
  }
 },
 "nbformat": 4,
 "nbformat_minor": 0
}
